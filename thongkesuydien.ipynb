{
  "nbformat": 4,
  "nbformat_minor": 0,
  "metadata": {
    "colab": {
      "name": "thongkesuydien.ipynb",
      "provenance": [],
      "authorship_tag": "ABX9TyNOhd7WUbFJ+J7291F9u3LH",
      "include_colab_link": true
    },
    "kernelspec": {
      "name": "python3",
      "display_name": "Python 3"
    },
    "language_info": {
      "name": "python"
    }
  },
  "cells": [
    {
      "cell_type": "markdown",
      "metadata": {
        "id": "view-in-github",
        "colab_type": "text"
      },
      "source": [
        "<a href=\"https://colab.research.google.com/github/tantai17132002/Doanhk2-PTDLPython/blob/main/thongkesuydien.ipynb\" target=\"_parent\"><img src=\"https://colab.research.google.com/assets/colab-badge.svg\" alt=\"Open In Colab\"/></a>"
      ]
    },
    {
      "cell_type": "markdown",
      "metadata": {
        "id": "mI4Jb7OKYSQs"
      },
      "source": [
        "**ĐỒ ÁN KẾT THÚC HỌC PHẦN**"
      ]
    },
    {
      "cell_type": "markdown",
      "metadata": {
        "id": "8-fZzVPbYVVl"
      },
      "source": [
        "*Thống kê suy diễn*"
      ]
    },
    {
      "cell_type": "code",
      "metadata": {
        "colab": {
          "base_uri": "https://localhost:8080/"
        },
        "id": "t1sO5R6TYP0f",
        "outputId": "f4c32af1-5dfd-4dec-9dab-108d7f4f8c71"
      },
      "source": [
        "import numpy as np\n",
        "import pandas as pd\n",
        "from scipy import stats\n",
        "import seaborn as sns\n",
        "from matplotlib import pyplot as plt\n",
        "import statsmodels.api as sm"
      ],
      "execution_count": 1,
      "outputs": [
        {
          "output_type": "stream",
          "text": [
            "/usr/local/lib/python3.7/dist-packages/statsmodels/tools/_testing.py:19: FutureWarning: pandas.util.testing is deprecated. Use the functions in the public API at pandas.testing instead.\n",
            "  import pandas.util.testing as tm\n"
          ],
          "name": "stderr"
        }
      ]
    },
    {
      "cell_type": "code",
      "metadata": {
        "id": "JguHdvNoYsZl"
      },
      "source": [
        "df = pd.read_csv('Diet_R.csv')"
      ],
      "execution_count": 2,
      "outputs": []
    },
    {
      "cell_type": "code",
      "metadata": {
        "colab": {
          "base_uri": "https://localhost:8080/",
          "height": 357
        },
        "id": "VVccxSuUYuY5",
        "outputId": "401e2b8c-28dd-4be9-e17c-efa1d3b118bf"
      },
      "source": [
        "df.sample(10)"
      ],
      "execution_count": 3,
      "outputs": [
        {
          "output_type": "execute_result",
          "data": {
            "text/html": [
              "<div>\n",
              "<style scoped>\n",
              "    .dataframe tbody tr th:only-of-type {\n",
              "        vertical-align: middle;\n",
              "    }\n",
              "\n",
              "    .dataframe tbody tr th {\n",
              "        vertical-align: top;\n",
              "    }\n",
              "\n",
              "    .dataframe thead th {\n",
              "        text-align: right;\n",
              "    }\n",
              "</style>\n",
              "<table border=\"1\" class=\"dataframe\">\n",
              "  <thead>\n",
              "    <tr style=\"text-align: right;\">\n",
              "      <th></th>\n",
              "      <th>Person</th>\n",
              "      <th>gender</th>\n",
              "      <th>Age</th>\n",
              "      <th>Height</th>\n",
              "      <th>pre.weight</th>\n",
              "      <th>Diet</th>\n",
              "      <th>weight6weeks</th>\n",
              "    </tr>\n",
              "  </thead>\n",
              "  <tbody>\n",
              "    <tr>\n",
              "      <th>74</th>\n",
              "      <td>75</td>\n",
              "      <td>1.0</td>\n",
              "      <td>49</td>\n",
              "      <td>177</td>\n",
              "      <td>84</td>\n",
              "      <td>3</td>\n",
              "      <td>79.9</td>\n",
              "    </tr>\n",
              "    <tr>\n",
              "      <th>3</th>\n",
              "      <td>2</td>\n",
              "      <td>0.0</td>\n",
              "      <td>46</td>\n",
              "      <td>192</td>\n",
              "      <td>60</td>\n",
              "      <td>1</td>\n",
              "      <td>54.0</td>\n",
              "    </tr>\n",
              "    <tr>\n",
              "      <th>56</th>\n",
              "      <td>42</td>\n",
              "      <td>1.0</td>\n",
              "      <td>38</td>\n",
              "      <td>199</td>\n",
              "      <td>75</td>\n",
              "      <td>2</td>\n",
              "      <td>72.6</td>\n",
              "    </tr>\n",
              "    <tr>\n",
              "      <th>22</th>\n",
              "      <td>33</td>\n",
              "      <td>0.0</td>\n",
              "      <td>31</td>\n",
              "      <td>163</td>\n",
              "      <td>63</td>\n",
              "      <td>2</td>\n",
              "      <td>60.3</td>\n",
              "    </tr>\n",
              "    <tr>\n",
              "      <th>76</th>\n",
              "      <td>77</td>\n",
              "      <td>1.0</td>\n",
              "      <td>40</td>\n",
              "      <td>167</td>\n",
              "      <td>87</td>\n",
              "      <td>3</td>\n",
              "      <td>77.8</td>\n",
              "    </tr>\n",
              "    <tr>\n",
              "      <th>26</th>\n",
              "      <td>37</td>\n",
              "      <td>0.0</td>\n",
              "      <td>16</td>\n",
              "      <td>165</td>\n",
              "      <td>68</td>\n",
              "      <td>2</td>\n",
              "      <td>63.8</td>\n",
              "    </tr>\n",
              "    <tr>\n",
              "      <th>42</th>\n",
              "      <td>64</td>\n",
              "      <td>0.0</td>\n",
              "      <td>56</td>\n",
              "      <td>171</td>\n",
              "      <td>73</td>\n",
              "      <td>3</td>\n",
              "      <td>68.9</td>\n",
              "    </tr>\n",
              "    <tr>\n",
              "      <th>39</th>\n",
              "      <td>61</td>\n",
              "      <td>0.0</td>\n",
              "      <td>37</td>\n",
              "      <td>170</td>\n",
              "      <td>70</td>\n",
              "      <td>3</td>\n",
              "      <td>62.7</td>\n",
              "    </tr>\n",
              "    <tr>\n",
              "      <th>15</th>\n",
              "      <td>14</td>\n",
              "      <td>0.0</td>\n",
              "      <td>37</td>\n",
              "      <td>167</td>\n",
              "      <td>82</td>\n",
              "      <td>1</td>\n",
              "      <td>81.1</td>\n",
              "    </tr>\n",
              "    <tr>\n",
              "      <th>19</th>\n",
              "      <td>30</td>\n",
              "      <td>0.0</td>\n",
              "      <td>43</td>\n",
              "      <td>171</td>\n",
              "      <td>61</td>\n",
              "      <td>2</td>\n",
              "      <td>56.7</td>\n",
              "    </tr>\n",
              "  </tbody>\n",
              "</table>\n",
              "</div>"
            ],
            "text/plain": [
              "    Person  gender  Age  Height  pre.weight  Diet  weight6weeks\n",
              "74      75     1.0   49     177          84     3          79.9\n",
              "3        2     0.0   46     192          60     1          54.0\n",
              "56      42     1.0   38     199          75     2          72.6\n",
              "22      33     0.0   31     163          63     2          60.3\n",
              "76      77     1.0   40     167          87     3          77.8\n",
              "26      37     0.0   16     165          68     2          63.8\n",
              "42      64     0.0   56     171          73     3          68.9\n",
              "39      61     0.0   37     170          70     3          62.7\n",
              "15      14     0.0   37     167          82     1          81.1\n",
              "19      30     0.0   43     171          61     2          56.7"
            ]
          },
          "metadata": {
            "tags": []
          },
          "execution_count": 3
        }
      ]
    },
    {
      "cell_type": "markdown",
      "metadata": {
        "id": "CP1wvpUaYoeI"
      },
      "source": [
        "*Tính cân nặng giảm*"
      ]
    },
    {
      "cell_type": "code",
      "metadata": {
        "id": "TCE4P04wYnSh"
      },
      "source": [
        "df['losingweight'] = df['pre.weight'] - df['weight6weeks']"
      ],
      "execution_count": 4,
      "outputs": []
    },
    {
      "cell_type": "code",
      "metadata": {
        "id": "nM-Oj7QiY3js"
      },
      "source": [
        "df_diet_losing = df[['Diet','losingweight']].copy()"
      ],
      "execution_count": 5,
      "outputs": []
    },
    {
      "cell_type": "code",
      "metadata": {
        "colab": {
          "base_uri": "https://localhost:8080/",
          "height": 417
        },
        "id": "GJZIgtW3Y5sh",
        "outputId": "09c853bb-2a41-421f-bb93-7cc002369f45"
      },
      "source": [
        "df_diet_losing"
      ],
      "execution_count": 6,
      "outputs": [
        {
          "output_type": "execute_result",
          "data": {
            "text/html": [
              "<div>\n",
              "<style scoped>\n",
              "    .dataframe tbody tr th:only-of-type {\n",
              "        vertical-align: middle;\n",
              "    }\n",
              "\n",
              "    .dataframe tbody tr th {\n",
              "        vertical-align: top;\n",
              "    }\n",
              "\n",
              "    .dataframe thead th {\n",
              "        text-align: right;\n",
              "    }\n",
              "</style>\n",
              "<table border=\"1\" class=\"dataframe\">\n",
              "  <thead>\n",
              "    <tr style=\"text-align: right;\">\n",
              "      <th></th>\n",
              "      <th>Diet</th>\n",
              "      <th>losingweight</th>\n",
              "    </tr>\n",
              "  </thead>\n",
              "  <tbody>\n",
              "    <tr>\n",
              "      <th>0</th>\n",
              "      <td>2</td>\n",
              "      <td>0.0</td>\n",
              "    </tr>\n",
              "    <tr>\n",
              "      <th>1</th>\n",
              "      <td>2</td>\n",
              "      <td>0.0</td>\n",
              "    </tr>\n",
              "    <tr>\n",
              "      <th>2</th>\n",
              "      <td>1</td>\n",
              "      <td>3.8</td>\n",
              "    </tr>\n",
              "    <tr>\n",
              "      <th>3</th>\n",
              "      <td>1</td>\n",
              "      <td>6.0</td>\n",
              "    </tr>\n",
              "    <tr>\n",
              "      <th>4</th>\n",
              "      <td>1</td>\n",
              "      <td>0.7</td>\n",
              "    </tr>\n",
              "    <tr>\n",
              "      <th>...</th>\n",
              "      <td>...</td>\n",
              "      <td>...</td>\n",
              "    </tr>\n",
              "    <tr>\n",
              "      <th>73</th>\n",
              "      <td>3</td>\n",
              "      <td>2.8</td>\n",
              "    </tr>\n",
              "    <tr>\n",
              "      <th>74</th>\n",
              "      <td>3</td>\n",
              "      <td>4.1</td>\n",
              "    </tr>\n",
              "    <tr>\n",
              "      <th>75</th>\n",
              "      <td>3</td>\n",
              "      <td>5.3</td>\n",
              "    </tr>\n",
              "    <tr>\n",
              "      <th>76</th>\n",
              "      <td>3</td>\n",
              "      <td>9.2</td>\n",
              "    </tr>\n",
              "    <tr>\n",
              "      <th>77</th>\n",
              "      <td>3</td>\n",
              "      <td>6.1</td>\n",
              "    </tr>\n",
              "  </tbody>\n",
              "</table>\n",
              "<p>78 rows × 2 columns</p>\n",
              "</div>"
            ],
            "text/plain": [
              "    Diet  losingweight\n",
              "0      2           0.0\n",
              "1      2           0.0\n",
              "2      1           3.8\n",
              "3      1           6.0\n",
              "4      1           0.7\n",
              "..   ...           ...\n",
              "73     3           2.8\n",
              "74     3           4.1\n",
              "75     3           5.3\n",
              "76     3           9.2\n",
              "77     3           6.1\n",
              "\n",
              "[78 rows x 2 columns]"
            ]
          },
          "metadata": {
            "tags": []
          },
          "execution_count": 6
        }
      ]
    },
    {
      "cell_type": "markdown",
      "metadata": {
        "id": "b9DI2OzbZBcS"
      },
      "source": [
        "**SỰ KHÁC NHAU VỀ HIỆU QUẢ CỦA CÁC PHƯƠNG PHÁP GIẢM CÂN**"
      ]
    },
    {
      "cell_type": "markdown",
      "metadata": {
        "id": "7EWPf6RgZG9e"
      },
      "source": [
        "Phát biểu giải thuyết thống kê:\n",
        " - H0: không có sự khác biệt về hiệu quả giảm cân giữa 3 phương pháp.\n",
        " - H1: có ít nhất hai kiểu phương pháp khác nhau về hiệu quả giảm cân"
      ]
    },
    {
      "cell_type": "code",
      "metadata": {
        "colab": {
          "base_uri": "https://localhost:8080/",
          "height": 279
        },
        "id": "hUipQMnCZZuT",
        "outputId": "5d9a4063-c11c-4333-a5f2-45b0a0b483ee"
      },
      "source": [
        "sns.boxplot(x='Diet',y='losingweight',data = df_diet_losing, color='green')\n",
        "sns.swarmplot(x='Diet',y='losingweight', data = df_diet_losing, color='orange')\n",
        "plt.show()"
      ],
      "execution_count": 7,
      "outputs": [
        {
          "output_type": "display_data",
          "data": {
            "image/png": "[encoded data removed]",
            "text/plain": [
              "<Figure size 432x288 with 1 Axes>"
            ]
          },
          "metadata": {
            "tags": [],
            "needs_background": "light"
          }
        }
      ]
    },
    {
      "cell_type": "code",
      "metadata": {
        "id": "4OcCMBO5ZcSz"
      },
      "source": [
        "from statsmodels.formula.api import ols\n",
        "import statsmodels.api as sm"
      ],
      "execution_count": 8,
      "outputs": []
    },
    {
      "cell_type": "code",
      "metadata": {
        "id": "B3POo5SXZeHd"
      },
      "source": [
        "model = ols('losingweight ~ C(Diet)', data=df_diet_losing).fit()\n",
        "anova_table = sm.stats.anova_lm(model, typ=2)"
      ],
      "execution_count": 9,
      "outputs": []
    },
    {
      "cell_type": "code",
      "metadata": {
        "colab": {
          "base_uri": "https://localhost:8080/",
          "height": 110
        },
        "id": "mEE7_kyeZiCX",
        "outputId": "62319a69-3de5-4672-a143-d49cce220391"
      },
      "source": [
        "anova_table"
      ],
      "execution_count": 10,
      "outputs": [
        {
          "output_type": "execute_result",
          "data": {
            "text/html": [
              "<div>\n",
              "<style scoped>\n",
              "    .dataframe tbody tr th:only-of-type {\n",
              "        vertical-align: middle;\n",
              "    }\n",
              "\n",
              "    .dataframe tbody tr th {\n",
              "        vertical-align: top;\n",
              "    }\n",
              "\n",
              "    .dataframe thead th {\n",
              "        text-align: right;\n",
              "    }\n",
              "</style>\n",
              "<table border=\"1\" class=\"dataframe\">\n",
              "  <thead>\n",
              "    <tr style=\"text-align: right;\">\n",
              "      <th></th>\n",
              "      <th>sum_sq</th>\n",
              "      <th>df</th>\n",
              "      <th>F</th>\n",
              "      <th>PR(&gt;F)</th>\n",
              "    </tr>\n",
              "  </thead>\n",
              "  <tbody>\n",
              "    <tr>\n",
              "      <th>C(Diet)</th>\n",
              "      <td>71.093689</td>\n",
              "      <td>2.0</td>\n",
              "      <td>6.197447</td>\n",
              "      <td>0.003229</td>\n",
              "    </tr>\n",
              "    <tr>\n",
              "      <th>Residual</th>\n",
              "      <td>430.179259</td>\n",
              "      <td>75.0</td>\n",
              "      <td>NaN</td>\n",
              "      <td>NaN</td>\n",
              "    </tr>\n",
              "  </tbody>\n",
              "</table>\n",
              "</div>"
            ],
            "text/plain": [
              "              sum_sq    df         F    PR(>F)\n",
              "C(Diet)    71.093689   2.0  6.197447  0.003229\n",
              "Residual  430.179259  75.0       NaN       NaN"
            ]
          },
          "metadata": {
            "tags": []
          },
          "execution_count": 10
        }
      ]
    },
    {
      "cell_type": "code",
      "metadata": {
        "id": "QJ0_qLzXZkxP"
      },
      "source": [
        "def results(p, alpha=0.05):\n",
        "    cols=['f_score', 'p_value', 'KetLuan']\n",
        "    if p['p_value'] < alpha:\n",
        "        p['KetLuan'] = f\"Chấp nhận H1 với mức ý nghĩa {alpha}\"\n",
        "    if p['p_value'] >= alpha:\n",
        "        p['KetLuan'] = f\"Chấp nhận H0 với mức ý nghĩa {alpha}\"\n",
        "    df = pd.DataFrame(p, index=[''])\n",
        "    return df[cols]"
      ],
      "execution_count": 11,
      "outputs": []
    },
    {
      "cell_type": "code",
      "metadata": {
        "colab": {
          "base_uri": "https://localhost:8080/",
          "height": 80
        },
        "id": "h2PRuCBtZnFF",
        "outputId": "9bcd62f3-a3a6-4acd-b87c-9de6a2ce582d"
      },
      "source": [
        "p = {}\n",
        "p['f_score'] = anova_table['F'][0]\n",
        "p['p_value'] = anova_table['PR(>F)'][0]\n",
        "results(p)"
      ],
      "execution_count": 12,
      "outputs": [
        {
          "output_type": "execute_result",
          "data": {
            "text/html": [
              "<div>\n",
              "<style scoped>\n",
              "    .dataframe tbody tr th:only-of-type {\n",
              "        vertical-align: middle;\n",
              "    }\n",
              "\n",
              "    .dataframe tbody tr th {\n",
              "        vertical-align: top;\n",
              "    }\n",
              "\n",
              "    .dataframe thead th {\n",
              "        text-align: right;\n",
              "    }\n",
              "</style>\n",
              "<table border=\"1\" class=\"dataframe\">\n",
              "  <thead>\n",
              "    <tr style=\"text-align: right;\">\n",
              "      <th></th>\n",
              "      <th>f_score</th>\n",
              "      <th>p_value</th>\n",
              "      <th>KetLuan</th>\n",
              "    </tr>\n",
              "  </thead>\n",
              "  <tbody>\n",
              "    <tr>\n",
              "      <th></th>\n",
              "      <td>6.197447</td>\n",
              "      <td>0.003229</td>\n",
              "      <td>Chấp nhận H1 với mức ý nghĩa 0.05</td>\n",
              "    </tr>\n",
              "  </tbody>\n",
              "</table>\n",
              "</div>"
            ],
            "text/plain": [
              "   f_score   p_value                            KetLuan\n",
              "  6.197447  0.003229  Chấp nhận H1 với mức ý nghĩa 0.05"
            ]
          },
          "metadata": {
            "tags": []
          },
          "execution_count": 12
        }
      ]
    },
    {
      "cell_type": "markdown",
      "metadata": {
        "id": "DH3AfmbWZrxu"
      },
      "source": [
        "*Kiểm tra hậu nghiệm*"
      ]
    },
    {
      "cell_type": "code",
      "metadata": {
        "id": "5hZyAiFMZwvi"
      },
      "source": [
        "from statsmodels.stats.multicomp import pairwise_tukeyhsd"
      ],
      "execution_count": 16,
      "outputs": []
    },
    {
      "cell_type": "code",
      "metadata": {
        "id": "hFQU3_diZ0LD"
      },
      "source": [
        "tukey = pairwise_tukeyhsd(endog=df_diet_losing['losingweight'],\n",
        "                         groups=df_diet_losing['Diet'],\n",
        "                         alpha=0.05)"
      ],
      "execution_count": 17,
      "outputs": []
    },
    {
      "cell_type": "code",
      "metadata": {
        "colab": {
          "base_uri": "https://localhost:8080/",
          "height": 134
        },
        "id": "idshPp5KZ4a9",
        "outputId": "8abd1b94-684c-4420-bfed-5a3ae2edd67c"
      },
      "source": [
        "tukey.summary()"
      ],
      "execution_count": 18,
      "outputs": [
        {
          "output_type": "execute_result",
          "data": {
            "text/html": [
              "<table class=\"simpletable\">\n",
              "<caption>Multiple Comparison of Means - Tukey HSD, FWER=0.05</caption>\n",
              "<tr>\n",
              "  <th>group1</th> <th>group2</th> <th>meandiff</th>  <th>p-adj</th>  <th>lower</th>   <th>upper</th> <th>reject</th>\n",
              "</tr>\n",
              "<tr>\n",
              "     <td>1</td>      <td>2</td>    <td>-0.2741</td>   <td>0.9</td>  <td>-1.8806</td> <td>1.3325</td>  <td>False</td>\n",
              "</tr>\n",
              "<tr>\n",
              "     <td>1</td>      <td>3</td>    <td>1.8481</td>  <td>0.0201</td> <td>0.2416</td>  <td>3.4547</td>  <td>True</td> \n",
              "</tr>\n",
              "<tr>\n",
              "     <td>2</td>      <td>3</td>    <td>2.1222</td>  <td>0.0048</td> <td>0.5636</td>  <td>3.6808</td>  <td>True</td> \n",
              "</tr>\n",
              "</table>"
            ],
            "text/plain": [
              "<class 'statsmodels.iolib.table.SimpleTable'>"
            ]
          },
          "metadata": {
            "tags": []
          },
          "execution_count": 18
        }
      ]
    },
    {
      "cell_type": "markdown",
      "metadata": {
        "id": "0SBApuJYaDU9"
      },
      "source": [
        "*Kiểm tra các điều kiện cho kiểm định Anova*"
      ]
    },
    {
      "cell_type": "code",
      "metadata": {
        "colab": {
          "base_uri": "https://localhost:8080/",
          "height": 279
        },
        "id": "_2BaWJ1JaLkN",
        "outputId": "013a6c9d-eb76-4d47-b71b-6f00e2014a7a"
      },
      "source": [
        "fig, ax = plt.subplots(1,2)\n",
        "sm.qqplot(model.resid,line='s', ax=ax[0])\n",
        "plt.xlabel(\"Theoretical Quantiles\")\n",
        "plt.ylabel(\"Sample Residuals\")\n",
        "\n",
        "plt.hist(model.resid, bins='auto', histtype='bar', ec='k')\n",
        "plt.xlabel('Residuals')\n",
        "plt.ylabel('Frequency')\n",
        "plt.show()"
      ],
      "execution_count": 19,
      "outputs": [
        {
          "output_type": "display_data",
          "data": {
            "image/png": "[encoded data removed]",
            "text/plain": [
              "<Figure size 432x288 with 2 Axes>"
            ]
          },
          "metadata": {
            "tags": [],
            "needs_background": "light"
          }
        }
      ]
    },
    {
      "cell_type": "code",
      "metadata": {
        "id": "9Rrz2ildaZc3"
      },
      "source": [
        "p_v = stats.shapiro(model.resid)[1]"
      ],
      "execution_count": 21,
      "outputs": []
    },
    {
      "cell_type": "markdown",
      "metadata": {
        "id": "70vQ4v5kagiY"
      },
      "source": [
        "*Kiểm tra sự phân phối chuẩn*"
      ]
    },
    {
      "cell_type": "code",
      "metadata": {
        "colab": {
          "base_uri": "https://localhost:8080/"
        },
        "id": "Cb9BTymEaf9Y",
        "outputId": "75e77588-e95a-47fa-df9c-2a2f9f379ae7"
      },
      "source": [
        "print('''Phát biểu giả thiết thống kê:\n",
        "    H0: Mẫu tuân theo phân phối chuẩn\n",
        "    H1: Mẫu khống tuân theo phân phối chuẩn''')\n",
        "if p_v > 0.05:\n",
        "    print(f'Không có bằng chứng thống kê để bác bỏ giả thiết H0. Điều này ngụ ý Mẫu tuân theo phân phối chuẩn')\n",
        "else:\n",
        "    print(f'Có bằng chứng thống kê để bác bỏ giả thiết H0. Điều này ngụ ý Mẫu không tuân theo phân phối chuẩn (H1)')"
      ],
      "execution_count": 22,
      "outputs": [
        {
          "output_type": "stream",
          "text": [
            "Phát biểu giả thiết thống kê:\n",
            "    H0: Mẫu tuân theo phân phối chuẩn\n",
            "    H1: Mẫu khống tuân theo phân phối chuẩn\n",
            "Không có bằng chứng thống kê để bác bỏ giả thiết H0. Điều này ngụ ý Mẫu tuân theo phân phối chuẩn\n"
          ],
          "name": "stdout"
        }
      ]
    },
    {
      "cell_type": "code",
      "metadata": {
        "id": "BBVEoSmcanJ5"
      },
      "source": [
        "df_gen_losingweight = df[['gender','losingweight']].copy()"
      ],
      "execution_count": 23,
      "outputs": []
    },
    {
      "cell_type": "code",
      "metadata": {
        "id": "ht4mlIRaapb4"
      },
      "source": [
        "df_gen_losingweight = df_gen_losingweight.replace(r'^\\s*$', np.nan, regex=True)"
      ],
      "execution_count": 24,
      "outputs": []
    },
    {
      "cell_type": "code",
      "metadata": {
        "id": "RvQBOtSaar6B"
      },
      "source": [
        "df_gen_losingweight = df_gen_losingweight.dropna()"
      ],
      "execution_count": 25,
      "outputs": []
    },
    {
      "cell_type": "code",
      "metadata": {
        "colab": {
          "base_uri": "https://localhost:8080/",
          "height": 417
        },
        "id": "UKy-_bHWat5R",
        "outputId": "ed0840a3-5e6b-44ee-b400-07d6179e63ad"
      },
      "source": [
        "df_gen_losingweight"
      ],
      "execution_count": 26,
      "outputs": [
        {
          "output_type": "execute_result",
          "data": {
            "text/html": [
              "<div>\n",
              "<style scoped>\n",
              "    .dataframe tbody tr th:only-of-type {\n",
              "        vertical-align: middle;\n",
              "    }\n",
              "\n",
              "    .dataframe tbody tr th {\n",
              "        vertical-align: top;\n",
              "    }\n",
              "\n",
              "    .dataframe thead th {\n",
              "        text-align: right;\n",
              "    }\n",
              "</style>\n",
              "<table border=\"1\" class=\"dataframe\">\n",
              "  <thead>\n",
              "    <tr style=\"text-align: right;\">\n",
              "      <th></th>\n",
              "      <th>gender</th>\n",
              "      <th>losingweight</th>\n",
              "    </tr>\n",
              "  </thead>\n",
              "  <tbody>\n",
              "    <tr>\n",
              "      <th>2</th>\n",
              "      <td>0.0</td>\n",
              "      <td>3.8</td>\n",
              "    </tr>\n",
              "    <tr>\n",
              "      <th>3</th>\n",
              "      <td>0.0</td>\n",
              "      <td>6.0</td>\n",
              "    </tr>\n",
              "    <tr>\n",
              "      <th>4</th>\n",
              "      <td>0.0</td>\n",
              "      <td>0.7</td>\n",
              "    </tr>\n",
              "    <tr>\n",
              "      <th>5</th>\n",
              "      <td>0.0</td>\n",
              "      <td>2.9</td>\n",
              "    </tr>\n",
              "    <tr>\n",
              "      <th>6</th>\n",
              "      <td>0.0</td>\n",
              "      <td>2.8</td>\n",
              "    </tr>\n",
              "    <tr>\n",
              "      <th>...</th>\n",
              "      <td>...</td>\n",
              "      <td>...</td>\n",
              "    </tr>\n",
              "    <tr>\n",
              "      <th>73</th>\n",
              "      <td>1.0</td>\n",
              "      <td>2.8</td>\n",
              "    </tr>\n",
              "    <tr>\n",
              "      <th>74</th>\n",
              "      <td>1.0</td>\n",
              "      <td>4.1</td>\n",
              "    </tr>\n",
              "    <tr>\n",
              "      <th>75</th>\n",
              "      <td>1.0</td>\n",
              "      <td>5.3</td>\n",
              "    </tr>\n",
              "    <tr>\n",
              "      <th>76</th>\n",
              "      <td>1.0</td>\n",
              "      <td>9.2</td>\n",
              "    </tr>\n",
              "    <tr>\n",
              "      <th>77</th>\n",
              "      <td>1.0</td>\n",
              "      <td>6.1</td>\n",
              "    </tr>\n",
              "  </tbody>\n",
              "</table>\n",
              "<p>76 rows × 2 columns</p>\n",
              "</div>"
            ],
            "text/plain": [
              "    gender  losingweight\n",
              "2      0.0           3.8\n",
              "3      0.0           6.0\n",
              "4      0.0           0.7\n",
              "5      0.0           2.9\n",
              "6      0.0           2.8\n",
              "..     ...           ...\n",
              "73     1.0           2.8\n",
              "74     1.0           4.1\n",
              "75     1.0           5.3\n",
              "76     1.0           9.2\n",
              "77     1.0           6.1\n",
              "\n",
              "[76 rows x 2 columns]"
            ]
          },
          "metadata": {
            "tags": []
          },
          "execution_count": 26
        }
      ]
    },
    {
      "cell_type": "markdown",
      "metadata": {
        "id": "Mb5VJ2aXa3wp"
      },
      "source": [
        "*SỰ KHÁC NHAU VỀ HIỆU QUẢ GIẢM CÂN VỚI CÁC GIỚI TÍNH KHÁC NHAU*"
      ]
    },
    {
      "cell_type": "markdown",
      "metadata": {
        "id": "irR35o_ua9-r"
      },
      "source": [
        "Phát biểu giải thuyết thống kê:\n",
        "- H0: không có sự khác biệt về hiệu quả giảm cân đối với các giới tính khác nhau.\n",
        "- H1: Các giới khác nhau về hiệu quả giảm cân."
      ]
    },
    {
      "cell_type": "code",
      "metadata": {
        "colab": {
          "base_uri": "https://localhost:8080/",
          "height": 279
        },
        "id": "8KZvl-2Fa2Ef",
        "outputId": "00fae4f9-5b51-44c8-b236-69c2fba21674"
      },
      "source": [
        "sns.boxplot(x='gender',y='losingweight',data = df_gen_losingweight, color='green')\n",
        "sns.swarmplot(x='gender',y='losingweight', data = df_gen_losingweight, color='orange')\n",
        "plt.show()"
      ],
      "execution_count": 27,
      "outputs": [
        {
          "output_type": "display_data",
          "data": {
            "image/png": "[encoded data removed]",
            "text/plain": [
              "<Figure size 432x288 with 1 Axes>"
            ]
          },
          "metadata": {
            "tags": [],
            "needs_background": "light"
          }
        }
      ]
    },
    {
      "cell_type": "code",
      "metadata": {
        "id": "x_XVMSa9awRf"
      },
      "source": [
        "model_2 = ols('losingweight ~ C(gender)', data=df_gen_losingweight).fit()\n",
        "anova_table = sm.stats.anova_lm(model_2, typ=2)"
      ],
      "execution_count": 28,
      "outputs": []
    },
    {
      "cell_type": "code",
      "metadata": {
        "colab": {
          "base_uri": "https://localhost:8080/",
          "height": 110
        },
        "id": "b2E432Y0bIwz",
        "outputId": "21c9116a-b8dd-4fdf-f0f1-d8505f8da219"
      },
      "source": [
        "anova_table"
      ],
      "execution_count": 29,
      "outputs": [
        {
          "output_type": "execute_result",
          "data": {
            "text/html": [
              "<div>\n",
              "<style scoped>\n",
              "    .dataframe tbody tr th:only-of-type {\n",
              "        vertical-align: middle;\n",
              "    }\n",
              "\n",
              "    .dataframe tbody tr th {\n",
              "        vertical-align: top;\n",
              "    }\n",
              "\n",
              "    .dataframe thead th {\n",
              "        text-align: right;\n",
              "    }\n",
              "</style>\n",
              "<table border=\"1\" class=\"dataframe\">\n",
              "  <thead>\n",
              "    <tr style=\"text-align: right;\">\n",
              "      <th></th>\n",
              "      <th>sum_sq</th>\n",
              "      <th>df</th>\n",
              "      <th>F</th>\n",
              "      <th>PR(&gt;F)</th>\n",
              "    </tr>\n",
              "  </thead>\n",
              "  <tbody>\n",
              "    <tr>\n",
              "      <th>C(gender)</th>\n",
              "      <td>0.278485</td>\n",
              "      <td>1.0</td>\n",
              "      <td>0.043786</td>\n",
              "      <td>0.834827</td>\n",
              "    </tr>\n",
              "    <tr>\n",
              "      <th>Residual</th>\n",
              "      <td>470.650331</td>\n",
              "      <td>74.0</td>\n",
              "      <td>NaN</td>\n",
              "      <td>NaN</td>\n",
              "    </tr>\n",
              "  </tbody>\n",
              "</table>\n",
              "</div>"
            ],
            "text/plain": [
              "               sum_sq    df         F    PR(>F)\n",
              "C(gender)    0.278485   1.0  0.043786  0.834827\n",
              "Residual   470.650331  74.0       NaN       NaN"
            ]
          },
          "metadata": {
            "tags": []
          },
          "execution_count": 29
        }
      ]
    },
    {
      "cell_type": "code",
      "metadata": {
        "colab": {
          "base_uri": "https://localhost:8080/",
          "height": 80
        },
        "id": "3qdGrHMDbLal",
        "outputId": "bb576168-5cdd-4e89-a975-e02f3f317843"
      },
      "source": [
        "p = {}\n",
        "p['f_score'] = anova_table['F'][0]\n",
        "p['p_value'] = anova_table['PR(>F)'][0]\n",
        "results(p)"
      ],
      "execution_count": 30,
      "outputs": [
        {
          "output_type": "execute_result",
          "data": {
            "text/html": [
              "<div>\n",
              "<style scoped>\n",
              "    .dataframe tbody tr th:only-of-type {\n",
              "        vertical-align: middle;\n",
              "    }\n",
              "\n",
              "    .dataframe tbody tr th {\n",
              "        vertical-align: top;\n",
              "    }\n",
              "\n",
              "    .dataframe thead th {\n",
              "        text-align: right;\n",
              "    }\n",
              "</style>\n",
              "<table border=\"1\" class=\"dataframe\">\n",
              "  <thead>\n",
              "    <tr style=\"text-align: right;\">\n",
              "      <th></th>\n",
              "      <th>f_score</th>\n",
              "      <th>p_value</th>\n",
              "      <th>KetLuan</th>\n",
              "    </tr>\n",
              "  </thead>\n",
              "  <tbody>\n",
              "    <tr>\n",
              "      <th></th>\n",
              "      <td>0.043786</td>\n",
              "      <td>0.834827</td>\n",
              "      <td>Chấp nhận H0 với mức ý nghĩa 0.05</td>\n",
              "    </tr>\n",
              "  </tbody>\n",
              "</table>\n",
              "</div>"
            ],
            "text/plain": [
              "   f_score   p_value                            KetLuan\n",
              "  0.043786  0.834827  Chấp nhận H0 với mức ý nghĩa 0.05"
            ]
          },
          "metadata": {
            "tags": []
          },
          "execution_count": 30
        }
      ]
    },
    {
      "cell_type": "markdown",
      "metadata": {
        "id": "7DGUSNKXbO_C"
      },
      "source": [
        "Không cần tiến hành kiểm tra hậu nghiệm"
      ]
    },
    {
      "cell_type": "markdown",
      "metadata": {
        "id": "Pb0yXo1YbW5q"
      },
      "source": [
        "*Kiểm tra các điều kiện cho kiểm định Anova*"
      ]
    },
    {
      "cell_type": "code",
      "metadata": {
        "colab": {
          "base_uri": "https://localhost:8080/",
          "height": 281
        },
        "id": "fjU_fB9nbOP1",
        "outputId": "cb511495-c845-4a45-c07c-7493f16a10f7"
      },
      "source": [
        "fig, ax = plt.subplots(1,2)\n",
        "sm.qqplot(model_2.resid,line='s', ax=ax[0])\n",
        "plt.xlabel(\"Theoretical Quantiles\")\n",
        "plt.ylabel(\"Sample Residuals\")\n",
        "\n",
        "plt.hist(model_2.resid, bins='auto', histtype='bar', ec='k')\n",
        "plt.xlabel('Residuals')\n",
        "plt.ylabel('Frequency')\n",
        "plt.show()"
      ],
      "execution_count": 31,
      "outputs": [
        {
          "output_type": "display_data",
          "data": {
            "image/png": "[encoded data removed]",
            "text/plain": [
              "<Figure size 432x288 with 2 Axes>"
            ]
          },
          "metadata": {
            "tags": [],
            "needs_background": "light"
          }
        }
      ]
    },
    {
      "cell_type": "code",
      "metadata": {
        "id": "Uy3Hq2CVbcla"
      },
      "source": [
        "p_v = stats.shapiro(model_2.resid)[1]"
      ],
      "execution_count": 32,
      "outputs": []
    },
    {
      "cell_type": "code",
      "metadata": {
        "colab": {
          "base_uri": "https://localhost:8080/"
        },
        "id": "U_FqM_9ybenC",
        "outputId": "3cb50d08-5a2a-40c1-a93b-41f4969240ce"
      },
      "source": [
        "print('''Phát biểu giả thiết thống kê:\n",
        "    H0: Mẫu tuân theo phân phối chuẩn\n",
        "    H1: Mẫu khống tuân theo phân phối chuẩn''')\n",
        "if p_v > 0.05:\n",
        "    print(f'Không có bằng chứng thống kê để bác bỏ giả thiết H0. Điều này ngụ ý Mẫu tuân theo phân phối chuẩn')\n",
        "else:\n",
        "    print(f'Có bằng chứng thống kê để bác bỏ giả thiết H0. Điều này ngụ ý Mẫu không tuân theo phân phối chuẩn (H1)')"
      ],
      "execution_count": 33,
      "outputs": [
        {
          "output_type": "stream",
          "text": [
            "Phát biểu giả thiết thống kê:\n",
            "    H0: Mẫu tuân theo phân phối chuẩn\n",
            "    H1: Mẫu khống tuân theo phân phối chuẩn\n",
            "Không có bằng chứng thống kê để bác bỏ giả thiết H0. Điều này ngụ ý Mẫu tuân theo phân phối chuẩn\n"
          ],
          "name": "stdout"
        }
      ]
    }
  ]
}